{
 "cells": [
  {
   "cell_type": "markdown",
   "metadata": {},
   "source": [
    "### Note\n",
    "* Instructions have been included for each segment. You do not have to follow them exactly, but they are included to help you think through the steps.\n",
    "\n",
    "### Homework writeup: Three observations of the data\n",
    "* 1. This game is played by mostly self-indentified males, accounting for 84% of players. \n",
    "* 2. Most of the players are 20-24 years old, making up 44.79% with data skewed like a bell curve with the youngest and highest age groups at the lowest value ends. \n",
    "* 3. The purchasing analysis corresponds to the age group data in that, unsurpirsingly, 20-24 year olds make the most purchases with the lower purchaing matching to the smaller sized age groups. \n"
   ]
  },
  {
   "cell_type": "markdown",
   "metadata": {},
   "source": [
    "## Player Count"
   ]
  },
  {
   "cell_type": "markdown",
   "metadata": {},
   "source": [
    "* Display the total number of players\n"
   ]
  },
  {
   "cell_type": "code",
   "execution_count": 2,
   "metadata": {},
   "outputs": [
    {
     "data": {
      "text/html": [
       "<div>\n",
       "<style scoped>\n",
       "    .dataframe tbody tr th:only-of-type {\n",
       "        vertical-align: middle;\n",
       "    }\n",
       "\n",
       "    .dataframe tbody tr th {\n",
       "        vertical-align: top;\n",
       "    }\n",
       "\n",
       "    .dataframe thead th {\n",
       "        text-align: right;\n",
       "    }\n",
       "</style>\n",
       "<table border=\"1\" class=\"dataframe\">\n",
       "  <thead>\n",
       "    <tr style=\"text-align: right;\">\n",
       "      <th></th>\n",
       "      <th>Total Players</th>\n",
       "    </tr>\n",
       "  </thead>\n",
       "  <tbody>\n",
       "    <tr>\n",
       "      <td>0</td>\n",
       "      <td>576</td>\n",
       "    </tr>\n",
       "  </tbody>\n",
       "</table>\n",
       "</div>"
      ],
      "text/plain": [
       "   Total Players\n",
       "0            576"
      ]
     },
     "execution_count": 2,
     "metadata": {},
     "output_type": "execute_result"
    }
   ],
   "source": [
    "# Dependencies and Setup\n",
    "import pandas as pd\n",
    "\n",
    "# File to Load (Remember to Change These)\n",
    "file_to_load = \"Resources/purchase_data.csv\"\n",
    "\n",
    "# Read Purchasing File and store into Pandas data frame\n",
    "purchase_data = pd.read_csv(file_to_load)\n",
    "\n",
    "total_players = len(purchase_data[\"SN\"].value_counts())\n",
    "# format to include title\n",
    "total_players = pd.DataFrame({\"Total Players\": [total_players]})\n",
    "total_players"
   ]
  },
  {
   "cell_type": "markdown",
   "metadata": {},
   "source": [
    "## Purchasing Analysis (Total)"
   ]
  },
  {
   "cell_type": "markdown",
   "metadata": {},
   "source": [
    "* Run basic calculations to obtain number of unique items, average price, etc.\n",
    "\n",
    "\n",
    "* Create a summary data frame to hold the results\n",
    "\n",
    "\n",
    "* Optional: give the displayed data cleaner formatting\n",
    "\n",
    "\n",
    "* Display the summary data frame\n"
   ]
  },
  {
   "cell_type": "code",
   "execution_count": 3,
   "metadata": {
    "scrolled": true
   },
   "outputs": [
    {
     "data": {
      "text/html": [
       "<style  type=\"text/css\" >\n",
       "</style><table id=\"T_aee44c66_0bf4_11ea_98a2_e0accb82e0ca\" ><thead>    <tr>        <th class=\"blank level0\" ></th>        <th class=\"col_heading level0 col0\" >Number of Unique Items</th>        <th class=\"col_heading level0 col1\" >Average Price</th>        <th class=\"col_heading level0 col2\" >Number of Purchases</th>        <th class=\"col_heading level0 col3\" >Total Revenue</th>    </tr></thead><tbody>\n",
       "                <tr>\n",
       "                        <th id=\"T_aee44c66_0bf4_11ea_98a2_e0accb82e0calevel0_row0\" class=\"row_heading level0 row0\" >0</th>\n",
       "                        <td id=\"T_aee44c66_0bf4_11ea_98a2_e0accb82e0carow0_col0\" class=\"data row0 col0\" >183</td>\n",
       "                        <td id=\"T_aee44c66_0bf4_11ea_98a2_e0accb82e0carow0_col1\" class=\"data row0 col1\" >$3.05</td>\n",
       "                        <td id=\"T_aee44c66_0bf4_11ea_98a2_e0accb82e0carow0_col2\" class=\"data row0 col2\" >780</td>\n",
       "                        <td id=\"T_aee44c66_0bf4_11ea_98a2_e0accb82e0carow0_col3\" class=\"data row0 col3\" >$2,379.77</td>\n",
       "            </tr>\n",
       "    </tbody></table>"
      ],
      "text/plain": [
       "<pandas.io.formats.style.Styler at 0x1131ccb70>"
      ]
     },
     "execution_count": 3,
     "metadata": {},
     "output_type": "execute_result"
    }
   ],
   "source": [
    "unique_info = len((purchase_data[\"Item ID\"]).unique())\n",
    "#unique_info - test\n",
    "avg_price = (purchase_data [\"Price\"]).mean()\n",
    "#avg_price - test\n",
    "num_purchases = (purchase_data [\"Item Name\"]).count()\n",
    "#num_purchases - test\n",
    "total_rev = (purchase_data [\"Price\"]).sum()\n",
    "#total_rev - test\n",
    "summary_data = pd.DataFrame({ \"Number of Unique Items\": [unique_info],\n",
    "                            \"Average Price\": [avg_price],\n",
    "                            \"Number of Purchases\": [num_purchases],\n",
    "                            \"Total Revenue\": [total_rev]})\n",
    "\n",
    "summary_data.style.format({\"Average Price\":\"${:,.2f}\",\n",
    "                         \"Total Revenue\": \"${:,.2f}\"})\n"
   ]
  },
  {
   "cell_type": "markdown",
   "metadata": {},
   "source": [
    "## Gender Demographics"
   ]
  },
  {
   "cell_type": "markdown",
   "metadata": {},
   "source": [
    "* Percentage and Count of Male Players\n",
    "\n",
    "\n",
    "* Percentage and Count of Female Players\n",
    "\n",
    "\n",
    "* Percentage and Count of Other / Non-Disclosed\n",
    "\n",
    "\n"
   ]
  },
  {
   "cell_type": "code",
   "execution_count": 4,
   "metadata": {},
   "outputs": [
    {
     "data": {
      "text/html": [
       "<style  type=\"text/css\" >\n",
       "</style><table id=\"T_af44e026_0bf4_11ea_b40e_e0accb82e0ca\" ><thead>    <tr>        <th class=\"blank level0\" ></th>        <th class=\"col_heading level0 col0\" >Gender</th>        <th class=\"col_heading level0 col1\" >Total Count</th>        <th class=\"col_heading level0 col2\" >Percentage of Players:</th>    </tr></thead><tbody>\n",
       "                <tr>\n",
       "                        <th id=\"T_af44e026_0bf4_11ea_b40e_e0accb82e0calevel0_row0\" class=\"row_heading level0 row0\" >0</th>\n",
       "                        <td id=\"T_af44e026_0bf4_11ea_b40e_e0accb82e0carow0_col0\" class=\"data row0 col0\" >Male</td>\n",
       "                        <td id=\"T_af44e026_0bf4_11ea_b40e_e0accb82e0carow0_col1\" class=\"data row0 col1\" >484</td>\n",
       "                        <td id=\"T_af44e026_0bf4_11ea_b40e_e0accb82e0carow0_col2\" class=\"data row0 col2\" >84.0278</td>\n",
       "            </tr>\n",
       "            <tr>\n",
       "                        <th id=\"T_af44e026_0bf4_11ea_b40e_e0accb82e0calevel0_row1\" class=\"row_heading level0 row1\" >1</th>\n",
       "                        <td id=\"T_af44e026_0bf4_11ea_b40e_e0accb82e0carow1_col0\" class=\"data row1 col0\" >Female</td>\n",
       "                        <td id=\"T_af44e026_0bf4_11ea_b40e_e0accb82e0carow1_col1\" class=\"data row1 col1\" >81</td>\n",
       "                        <td id=\"T_af44e026_0bf4_11ea_b40e_e0accb82e0carow1_col2\" class=\"data row1 col2\" >14.0625</td>\n",
       "            </tr>\n",
       "            <tr>\n",
       "                        <th id=\"T_af44e026_0bf4_11ea_b40e_e0accb82e0calevel0_row2\" class=\"row_heading level0 row2\" >2</th>\n",
       "                        <td id=\"T_af44e026_0bf4_11ea_b40e_e0accb82e0carow2_col0\" class=\"data row2 col0\" >Other / Non-Disclosed</td>\n",
       "                        <td id=\"T_af44e026_0bf4_11ea_b40e_e0accb82e0carow2_col1\" class=\"data row2 col1\" >11</td>\n",
       "                        <td id=\"T_af44e026_0bf4_11ea_b40e_e0accb82e0carow2_col2\" class=\"data row2 col2\" >1.90972</td>\n",
       "            </tr>\n",
       "    </tbody></table>"
      ],
      "text/plain": [
       "<pandas.io.formats.style.Styler at 0x113b02eb8>"
      ]
     },
     "execution_count": 4,
     "metadata": {},
     "output_type": "execute_result"
    }
   ],
   "source": [
    "male_count = len((purchase_data[purchase_data[\"Gender\"] == \"Male\"][\"SN\"]).unique())\n",
    "# male_count - test print code - count males\n",
    "female_count = len((purchase_data[purchase_data[\"Gender\"] == \"Female\"][\"SN\"]).unique())\n",
    "# female_count - test print code - counts females\n",
    "other_count = len((purchase_data[purchase_data[\"Gender\"] == \"Other / Non-Disclosed\"][\"SN\"]).unique())\n",
    "# other_count - test print code - count other\n",
    "\n",
    "# find percentages \n",
    "total_count = male_count + female_count + other_count\n",
    "male_percent = (male_count/total_count) * 100 \n",
    "female_percent = (female_count/total_count) * 100\n",
    "other_percent = (other_count/total_count) * 100\n",
    "\n",
    "gender_summary = pd.DataFrame({\"Gender\": [\"Male\", \"Female\", \"Other / Non-Disclosed\"],\n",
    "                                \"Total Count\": [male_count, female_count, other_count],\n",
    "                                \"Percentage of Players:\": [male_percent, female_percent, other_percent]})\n",
    "\n",
    "# Not sure why percentage isn't working\n",
    "gender_summary.style.format({\"Percentage of Players\":\"{:,.2f}%\"})"
   ]
  },
  {
   "cell_type": "markdown",
   "metadata": {},
   "source": [
    "\n",
    "## Purchasing Analysis (Gender)"
   ]
  },
  {
   "cell_type": "markdown",
   "metadata": {},
   "source": [
    "* Run basic calculations to obtain purchase count, avg. purchase price, avg. purchase total per person etc. by gender\n",
    "\n",
    "\n",
    "\n",
    "\n",
    "* Create a summary data frame to hold the results\n",
    "\n",
    "\n",
    "* Optional: give the displayed data cleaner formatting\n",
    "\n",
    "\n",
    "* Display the summary data frame"
   ]
  },
  {
   "cell_type": "code",
   "execution_count": 5,
   "metadata": {},
   "outputs": [
    {
     "data": {
      "text/html": [
       "<style  type=\"text/css\" >\n",
       "</style><table id=\"T_b030ad80_0bf4_11ea_b470_e0accb82e0ca\" ><thead>    <tr>        <th class=\"blank level0\" ></th>        <th class=\"col_heading level0 col0\" >Gender</th>        <th class=\"col_heading level0 col1\" >Purchase Count</th>        <th class=\"col_heading level0 col2\" >Average Purchase Price</th>        <th class=\"col_heading level0 col3\" >Total Purchase Value</th>        <th class=\"col_heading level0 col4\" >Avg Tot Purch per Pers</th>    </tr></thead><tbody>\n",
       "                <tr>\n",
       "                        <th id=\"T_b030ad80_0bf4_11ea_b470_e0accb82e0calevel0_row0\" class=\"row_heading level0 row0\" >0</th>\n",
       "                        <td id=\"T_b030ad80_0bf4_11ea_b470_e0accb82e0carow0_col0\" class=\"data row0 col0\" >Male</td>\n",
       "                        <td id=\"T_b030ad80_0bf4_11ea_b470_e0accb82e0carow0_col1\" class=\"data row0 col1\" >652</td>\n",
       "                        <td id=\"T_b030ad80_0bf4_11ea_b470_e0accb82e0carow0_col2\" class=\"data row0 col2\" >$3.02</td>\n",
       "                        <td id=\"T_b030ad80_0bf4_11ea_b470_e0accb82e0carow0_col3\" class=\"data row0 col3\" >$1967.64</td>\n",
       "                        <td id=\"T_b030ad80_0bf4_11ea_b470_e0accb82e0carow0_col4\" class=\"data row0 col4\" >$4.07</td>\n",
       "            </tr>\n",
       "            <tr>\n",
       "                        <th id=\"T_b030ad80_0bf4_11ea_b470_e0accb82e0calevel0_row1\" class=\"row_heading level0 row1\" >1</th>\n",
       "                        <td id=\"T_b030ad80_0bf4_11ea_b470_e0accb82e0carow1_col0\" class=\"data row1 col0\" >Female</td>\n",
       "                        <td id=\"T_b030ad80_0bf4_11ea_b470_e0accb82e0carow1_col1\" class=\"data row1 col1\" >113</td>\n",
       "                        <td id=\"T_b030ad80_0bf4_11ea_b470_e0accb82e0carow1_col2\" class=\"data row1 col2\" >$3.20</td>\n",
       "                        <td id=\"T_b030ad80_0bf4_11ea_b470_e0accb82e0carow1_col3\" class=\"data row1 col3\" >$361.94</td>\n",
       "                        <td id=\"T_b030ad80_0bf4_11ea_b470_e0accb82e0carow1_col4\" class=\"data row1 col4\" >$4.47</td>\n",
       "            </tr>\n",
       "            <tr>\n",
       "                        <th id=\"T_b030ad80_0bf4_11ea_b470_e0accb82e0calevel0_row2\" class=\"row_heading level0 row2\" >2</th>\n",
       "                        <td id=\"T_b030ad80_0bf4_11ea_b470_e0accb82e0carow2_col0\" class=\"data row2 col0\" >Other / Non-Disclosed</td>\n",
       "                        <td id=\"T_b030ad80_0bf4_11ea_b470_e0accb82e0carow2_col1\" class=\"data row2 col1\" >15</td>\n",
       "                        <td id=\"T_b030ad80_0bf4_11ea_b470_e0accb82e0carow2_col2\" class=\"data row2 col2\" >$3.35</td>\n",
       "                        <td id=\"T_b030ad80_0bf4_11ea_b470_e0accb82e0carow2_col3\" class=\"data row2 col3\" >$50.19</td>\n",
       "                        <td id=\"T_b030ad80_0bf4_11ea_b470_e0accb82e0carow2_col4\" class=\"data row2 col4\" >$4.56</td>\n",
       "            </tr>\n",
       "    </tbody></table>"
      ],
      "text/plain": [
       "<pandas.io.formats.style.Styler at 0x113b140b8>"
      ]
     },
     "execution_count": 5,
     "metadata": {},
     "output_type": "execute_result"
    }
   ],
   "source": [
    "# Purchase count\n",
    "male_purchases = purchase_data[purchase_data[\"Gender\"] == \"Male\"][\"Price\"].count()\n",
    "# test print code male_purchases\n",
    "female_purchases = purchase_data[purchase_data[\"Gender\"] == \"Female\"][\"Price\"].count()\n",
    "other_purchases = purchase_data[purchase_data[\"Gender\"] == \"Other / Non-Disclosed\"][\"Price\"].count()\n",
    "\n",
    "# Average purchase price\n",
    "male_average = purchase_data[purchase_data[\"Gender\"] == \"Male\"][\"Price\"].mean()\n",
    "# test print code male_average\n",
    "female_average = purchase_data[purchase_data[\"Gender\"] == \"Female\"][\"Price\"].mean()\n",
    "other_average = purchase_data[purchase_data[\"Gender\"] == \"Other / Non-Disclosed\"][\"Price\"].mean()\n",
    "\n",
    "# Purchase total by gender\n",
    "male_total = purchase_data[purchase_data[\"Gender\"] == \"Male\"][\"Price\"].sum()\n",
    "# test print code male_total\n",
    "female_total = purchase_data[purchase_data[\"Gender\"] == \"Female\"][\"Price\"].sum()\n",
    "other_total = purchase_data[purchase_data[\"Gender\"] == \"Other / Non-Disclosed\"][\"Price\"].sum()\n",
    "\n",
    "# Purchase per person by gender\n",
    "male_per_total = male_total/ male_count\n",
    "# test print code male_per_total\n",
    "female_per_total = female_total / female_count\n",
    "other_per_total = other_total / other_count\n",
    "\n",
    "gender_purch_summary= pd.DataFrame({\"Gender\": [\"Male\", \"Female\", \"Other / Non-Disclosed\"],\n",
    "                                    \"Purchase Count\": [male_purchases, female_purchases, other_purchases],\n",
    "                                    \"Average Purchase Price\": [male_average, female_average, other_average],\n",
    "                                    \"Total Purchase Value\": [male_total, female_total, other_total], \n",
    "                                    \"Avg Tot Purch per Pers\": [male_per_total, female_per_total, other_per_total]})\n",
    "\n",
    "gender_purch_summary.style.format({\"Average Purchase Price\": \"${:,.2f}\", \n",
    "                                   \"Total Purchase Value\": \"${:.2f}\", \n",
    "                                   \"Avg Tot Purch per Pers\": \"${:.2f}\"})\n"
   ]
  },
  {
   "cell_type": "markdown",
   "metadata": {},
   "source": [
    "## Age Demographics"
   ]
  },
  {
   "cell_type": "markdown",
   "metadata": {},
   "source": [
    "* Establish bins for ages\n",
    "\n",
    "\n",
    "* Categorize the existing players using the age bins. Hint: use pd.cut()\n",
    "\n",
    "\n",
    "* Calculate the numbers and percentages by age group\n",
    "\n",
    "\n",
    "* Create a summary data frame to hold the results\n",
    "\n",
    "\n",
    "* Optional: round the percentage column to two decimal points\n",
    "\n",
    "\n",
    "* Display Age Demographics Table\n"
   ]
  },
  {
   "cell_type": "code",
   "execution_count": 6,
   "metadata": {},
   "outputs": [
    {
     "data": {
      "text/html": [
       "<style  type=\"text/css\" >\n",
       "</style><table id=\"T_b086c0b4_0bf4_11ea_8bb0_e0accb82e0ca\" ><thead>    <tr>        <th class=\"blank level0\" ></th>        <th class=\"col_heading level0 col0\" >Total Count</th>        <th class=\"col_heading level0 col1\" >Percentage of Players</th>    </tr>    <tr>        <th class=\"index_name level0\" >Age Group</th>        <th class=\"blank\" ></th>        <th class=\"blank\" ></th>    </tr></thead><tbody>\n",
       "                <tr>\n",
       "                        <th id=\"T_b086c0b4_0bf4_11ea_8bb0_e0accb82e0calevel0_row0\" class=\"row_heading level0 row0\" ><10</th>\n",
       "                        <td id=\"T_b086c0b4_0bf4_11ea_8bb0_e0accb82e0carow0_col0\" class=\"data row0 col0\" >17</td>\n",
       "                        <td id=\"T_b086c0b4_0bf4_11ea_8bb0_e0accb82e0carow0_col1\" class=\"data row0 col1\" >2.95%</td>\n",
       "            </tr>\n",
       "            <tr>\n",
       "                        <th id=\"T_b086c0b4_0bf4_11ea_8bb0_e0accb82e0calevel0_row1\" class=\"row_heading level0 row1\" >10-14</th>\n",
       "                        <td id=\"T_b086c0b4_0bf4_11ea_8bb0_e0accb82e0carow1_col0\" class=\"data row1 col0\" >22</td>\n",
       "                        <td id=\"T_b086c0b4_0bf4_11ea_8bb0_e0accb82e0carow1_col1\" class=\"data row1 col1\" >3.82%</td>\n",
       "            </tr>\n",
       "            <tr>\n",
       "                        <th id=\"T_b086c0b4_0bf4_11ea_8bb0_e0accb82e0calevel0_row2\" class=\"row_heading level0 row2\" >15-19</th>\n",
       "                        <td id=\"T_b086c0b4_0bf4_11ea_8bb0_e0accb82e0carow2_col0\" class=\"data row2 col0\" >107</td>\n",
       "                        <td id=\"T_b086c0b4_0bf4_11ea_8bb0_e0accb82e0carow2_col1\" class=\"data row2 col1\" >18.58%</td>\n",
       "            </tr>\n",
       "            <tr>\n",
       "                        <th id=\"T_b086c0b4_0bf4_11ea_8bb0_e0accb82e0calevel0_row3\" class=\"row_heading level0 row3\" >20-24</th>\n",
       "                        <td id=\"T_b086c0b4_0bf4_11ea_8bb0_e0accb82e0carow3_col0\" class=\"data row3 col0\" >258</td>\n",
       "                        <td id=\"T_b086c0b4_0bf4_11ea_8bb0_e0accb82e0carow3_col1\" class=\"data row3 col1\" >44.79%</td>\n",
       "            </tr>\n",
       "            <tr>\n",
       "                        <th id=\"T_b086c0b4_0bf4_11ea_8bb0_e0accb82e0calevel0_row4\" class=\"row_heading level0 row4\" >25-29</th>\n",
       "                        <td id=\"T_b086c0b4_0bf4_11ea_8bb0_e0accb82e0carow4_col0\" class=\"data row4 col0\" >77</td>\n",
       "                        <td id=\"T_b086c0b4_0bf4_11ea_8bb0_e0accb82e0carow4_col1\" class=\"data row4 col1\" >13.37%</td>\n",
       "            </tr>\n",
       "            <tr>\n",
       "                        <th id=\"T_b086c0b4_0bf4_11ea_8bb0_e0accb82e0calevel0_row5\" class=\"row_heading level0 row5\" >30-34</th>\n",
       "                        <td id=\"T_b086c0b4_0bf4_11ea_8bb0_e0accb82e0carow5_col0\" class=\"data row5 col0\" >52</td>\n",
       "                        <td id=\"T_b086c0b4_0bf4_11ea_8bb0_e0accb82e0carow5_col1\" class=\"data row5 col1\" >9.03%</td>\n",
       "            </tr>\n",
       "            <tr>\n",
       "                        <th id=\"T_b086c0b4_0bf4_11ea_8bb0_e0accb82e0calevel0_row6\" class=\"row_heading level0 row6\" >35-39</th>\n",
       "                        <td id=\"T_b086c0b4_0bf4_11ea_8bb0_e0accb82e0carow6_col0\" class=\"data row6 col0\" >31</td>\n",
       "                        <td id=\"T_b086c0b4_0bf4_11ea_8bb0_e0accb82e0carow6_col1\" class=\"data row6 col1\" >5.38%</td>\n",
       "            </tr>\n",
       "            <tr>\n",
       "                        <th id=\"T_b086c0b4_0bf4_11ea_8bb0_e0accb82e0calevel0_row7\" class=\"row_heading level0 row7\" >40+</th>\n",
       "                        <td id=\"T_b086c0b4_0bf4_11ea_8bb0_e0accb82e0carow7_col0\" class=\"data row7 col0\" >12</td>\n",
       "                        <td id=\"T_b086c0b4_0bf4_11ea_8bb0_e0accb82e0carow7_col1\" class=\"data row7 col1\" >2.08%</td>\n",
       "            </tr>\n",
       "    </tbody></table>"
      ],
      "text/plain": [
       "<pandas.io.formats.style.Styler at 0x113b02978>"
      ]
     },
     "execution_count": 6,
     "metadata": {},
     "output_type": "execute_result"
    }
   ],
   "source": [
    "# create bins and labels\n",
    "age_bins =  [0, 9.99, 14.99, 19.99, 24.99, 29.99, 34.99, 39.99, 99.99]\n",
    "age_labels = [\"<10\", \"10-14\", \"15-19\", \"20-24\", \"25-29\", \"30-34\", \"35-39\", \"40+\"]\n",
    "\n",
    "purchase_data[\"Age Group\"] = pd.cut(purchase_data[\"Age\"],age_bins, labels=age_labels)\n",
    "\n",
    "age_group = purchase_data.groupby(\"Age Group\")\n",
    "# verify that age_group.head() works\n",
    "\n",
    "total_count_age = age_group[\"SN\"].nunique()\n",
    "percent_age = (total_count_age/total_count) * 100\n",
    "# test percent_age code print\n",
    "\n",
    "age_summary = pd.DataFrame({\"Total Count\": total_count_age,\n",
    "                            \"Percentage of Players\": percent_age})\n",
    "\n",
    "age_summary.style.format({\"Percentage of Players\":\"{:,.2f}%\"})"
   ]
  },
  {
   "cell_type": "markdown",
   "metadata": {},
   "source": [
    "## Purchasing Analysis (Age)"
   ]
  },
  {
   "cell_type": "markdown",
   "metadata": {},
   "source": [
    "* Bin the purchase_data data frame by age\n",
    "\n",
    "\n",
    "* Run basic calculations to obtain purchase count, avg. purchase price, avg. purchase total per person etc. in the table below\n",
    "\n",
    "\n",
    "* Create a summary data frame to hold the results\n",
    "\n",
    "\n",
    "* Optional: give the displayed data cleaner formatting\n",
    "\n",
    "\n",
    "* Display the summary data frame"
   ]
  },
  {
   "cell_type": "code",
   "execution_count": 7,
   "metadata": {},
   "outputs": [
    {
     "data": {
      "text/html": [
       "<style  type=\"text/css\" >\n",
       "</style><table id=\"T_b0d2e668_0bf4_11ea_b031_e0accb82e0ca\" ><thead>    <tr>        <th class=\"blank level0\" ></th>        <th class=\"col_heading level0 col0\" >Purchase Count</th>        <th class=\"col_heading level0 col1\" >Average Purchase Price</th>        <th class=\"col_heading level0 col2\" >Total Purchase Value</th>        <th class=\"col_heading level0 col3\" >Average Purchase Total per Person</th>    </tr>    <tr>        <th class=\"index_name level0\" >Age Group</th>        <th class=\"blank\" ></th>        <th class=\"blank\" ></th>        <th class=\"blank\" ></th>        <th class=\"blank\" ></th>    </tr></thead><tbody>\n",
       "                <tr>\n",
       "                        <th id=\"T_b0d2e668_0bf4_11ea_b031_e0accb82e0calevel0_row0\" class=\"row_heading level0 row0\" ><10</th>\n",
       "                        <td id=\"T_b0d2e668_0bf4_11ea_b031_e0accb82e0carow0_col0\" class=\"data row0 col0\" >23</td>\n",
       "                        <td id=\"T_b0d2e668_0bf4_11ea_b031_e0accb82e0carow0_col1\" class=\"data row0 col1\" >$3.35</td>\n",
       "                        <td id=\"T_b0d2e668_0bf4_11ea_b031_e0accb82e0carow0_col2\" class=\"data row0 col2\" >$77.13</td>\n",
       "                        <td id=\"T_b0d2e668_0bf4_11ea_b031_e0accb82e0carow0_col3\" class=\"data row0 col3\" >$4.35</td>\n",
       "            </tr>\n",
       "            <tr>\n",
       "                        <th id=\"T_b0d2e668_0bf4_11ea_b031_e0accb82e0calevel0_row1\" class=\"row_heading level0 row1\" >10-14</th>\n",
       "                        <td id=\"T_b0d2e668_0bf4_11ea_b031_e0accb82e0carow1_col0\" class=\"data row1 col0\" >28</td>\n",
       "                        <td id=\"T_b0d2e668_0bf4_11ea_b031_e0accb82e0carow1_col1\" class=\"data row1 col1\" >$2.96</td>\n",
       "                        <td id=\"T_b0d2e668_0bf4_11ea_b031_e0accb82e0carow1_col2\" class=\"data row1 col2\" >$82.78</td>\n",
       "                        <td id=\"T_b0d2e668_0bf4_11ea_b031_e0accb82e0carow1_col3\" class=\"data row1 col3\" >$3.57</td>\n",
       "            </tr>\n",
       "            <tr>\n",
       "                        <th id=\"T_b0d2e668_0bf4_11ea_b031_e0accb82e0calevel0_row2\" class=\"row_heading level0 row2\" >15-19</th>\n",
       "                        <td id=\"T_b0d2e668_0bf4_11ea_b031_e0accb82e0carow2_col0\" class=\"data row2 col0\" >136</td>\n",
       "                        <td id=\"T_b0d2e668_0bf4_11ea_b031_e0accb82e0carow2_col1\" class=\"data row2 col1\" >$3.04</td>\n",
       "                        <td id=\"T_b0d2e668_0bf4_11ea_b031_e0accb82e0carow2_col2\" class=\"data row2 col2\" >$412.89</td>\n",
       "                        <td id=\"T_b0d2e668_0bf4_11ea_b031_e0accb82e0carow2_col3\" class=\"data row2 col3\" >$0.74</td>\n",
       "            </tr>\n",
       "            <tr>\n",
       "                        <th id=\"T_b0d2e668_0bf4_11ea_b031_e0accb82e0calevel0_row3\" class=\"row_heading level0 row3\" >20-24</th>\n",
       "                        <td id=\"T_b0d2e668_0bf4_11ea_b031_e0accb82e0carow3_col0\" class=\"data row3 col0\" >365</td>\n",
       "                        <td id=\"T_b0d2e668_0bf4_11ea_b031_e0accb82e0carow3_col1\" class=\"data row3 col1\" >$3.05</td>\n",
       "                        <td id=\"T_b0d2e668_0bf4_11ea_b031_e0accb82e0carow3_col2\" class=\"data row3 col2\" >$1,114.06</td>\n",
       "                        <td id=\"T_b0d2e668_0bf4_11ea_b031_e0accb82e0carow3_col3\" class=\"data row3 col3\" >$0.27</td>\n",
       "            </tr>\n",
       "            <tr>\n",
       "                        <th id=\"T_b0d2e668_0bf4_11ea_b031_e0accb82e0calevel0_row4\" class=\"row_heading level0 row4\" >25-29</th>\n",
       "                        <td id=\"T_b0d2e668_0bf4_11ea_b031_e0accb82e0carow4_col0\" class=\"data row4 col0\" >101</td>\n",
       "                        <td id=\"T_b0d2e668_0bf4_11ea_b031_e0accb82e0carow4_col1\" class=\"data row4 col1\" >$2.90</td>\n",
       "                        <td id=\"T_b0d2e668_0bf4_11ea_b031_e0accb82e0carow4_col2\" class=\"data row4 col2\" >$293.00</td>\n",
       "                        <td id=\"T_b0d2e668_0bf4_11ea_b031_e0accb82e0carow4_col3\" class=\"data row4 col3\" >$0.99</td>\n",
       "            </tr>\n",
       "            <tr>\n",
       "                        <th id=\"T_b0d2e668_0bf4_11ea_b031_e0accb82e0calevel0_row5\" class=\"row_heading level0 row5\" >30-34</th>\n",
       "                        <td id=\"T_b0d2e668_0bf4_11ea_b031_e0accb82e0carow5_col0\" class=\"data row5 col0\" >73</td>\n",
       "                        <td id=\"T_b0d2e668_0bf4_11ea_b031_e0accb82e0carow5_col1\" class=\"data row5 col1\" >$2.93</td>\n",
       "                        <td id=\"T_b0d2e668_0bf4_11ea_b031_e0accb82e0carow5_col2\" class=\"data row5 col2\" >$214.00</td>\n",
       "                        <td id=\"T_b0d2e668_0bf4_11ea_b031_e0accb82e0carow5_col3\" class=\"data row5 col3\" >$1.37</td>\n",
       "            </tr>\n",
       "            <tr>\n",
       "                        <th id=\"T_b0d2e668_0bf4_11ea_b031_e0accb82e0calevel0_row6\" class=\"row_heading level0 row6\" >35-39</th>\n",
       "                        <td id=\"T_b0d2e668_0bf4_11ea_b031_e0accb82e0carow6_col0\" class=\"data row6 col0\" >41</td>\n",
       "                        <td id=\"T_b0d2e668_0bf4_11ea_b031_e0accb82e0carow6_col1\" class=\"data row6 col1\" >$3.60</td>\n",
       "                        <td id=\"T_b0d2e668_0bf4_11ea_b031_e0accb82e0carow6_col2\" class=\"data row6 col2\" >$147.67</td>\n",
       "                        <td id=\"T_b0d2e668_0bf4_11ea_b031_e0accb82e0carow6_col3\" class=\"data row6 col3\" >$2.44</td>\n",
       "            </tr>\n",
       "            <tr>\n",
       "                        <th id=\"T_b0d2e668_0bf4_11ea_b031_e0accb82e0calevel0_row7\" class=\"row_heading level0 row7\" >40+</th>\n",
       "                        <td id=\"T_b0d2e668_0bf4_11ea_b031_e0accb82e0carow7_col0\" class=\"data row7 col0\" >13</td>\n",
       "                        <td id=\"T_b0d2e668_0bf4_11ea_b031_e0accb82e0carow7_col1\" class=\"data row7 col1\" >$2.94</td>\n",
       "                        <td id=\"T_b0d2e668_0bf4_11ea_b031_e0accb82e0carow7_col2\" class=\"data row7 col2\" >$38.24</td>\n",
       "                        <td id=\"T_b0d2e668_0bf4_11ea_b031_e0accb82e0carow7_col3\" class=\"data row7 col3\" >$7.69</td>\n",
       "            </tr>\n",
       "    </tbody></table>"
      ],
      "text/plain": [
       "<pandas.io.formats.style.Styler at 0x113b027b8>"
      ]
     },
     "execution_count": 7,
     "metadata": {},
     "output_type": "execute_result"
    }
   ],
   "source": [
    "# create bins and labels\n",
    "age_bins =  [0, 9.99, 14.99, 19.99, 24.99, 29.99, 34.99, 39.99, 99.99]\n",
    "age_labels = [\"<10\", \"10-14\", \"15-19\", \"20-24\", \"25-29\", \"30-34\", \"35-39\", \"40+\"]\n",
    "\n",
    "purchase_data[\"Age Group\"] = pd.cut(purchase_data[\"Age\"],age_bins, labels=age_labels)\n",
    "\n",
    "age_group = purchase_data.groupby(\"Age Group\")\n",
    "\n",
    "purchase_count_age = age_group[\"Purchase ID\"].count()\n",
    "average_purchase_age = age_group[\"Price\"].mean()\n",
    "total_purchase = age_group[\"Price\"].sum()\n",
    "avg_total = (average_purchase_age / total_purchase) *100 \n",
    "\n",
    "age_summary = pd.DataFrame({\"Purchase Count\": purchase_count_age,\n",
    "                                 \"Average Purchase Price\": average_purchase_age,\n",
    "                                 \"Total Purchase Value\":total_purchase,\n",
    "                                 \"Average Purchase Total per Person\": avg_total})\n",
    "\n",
    "age_summary.style.format({\"Average Purchase Price\":\"${:,.2f}\",\n",
    "                               \"Total Purchase Value\":\"${:,.2f}\",\n",
    "                               \"Average Purchase Total per Person\":\"${:,.2f}\"})\n"
   ]
  },
  {
   "cell_type": "markdown",
   "metadata": {},
   "source": [
    "## Top Spenders"
   ]
  },
  {
   "cell_type": "markdown",
   "metadata": {},
   "source": [
    "* Run basic calculations to obtain the results in the table below\n",
    "\n",
    "\n",
    "* Create a summary data frame to hold the results\n",
    "\n",
    "\n",
    "* Sort the total purchase value column in descending order\n",
    "\n",
    "\n",
    "* Optional: give the displayed data cleaner formatting\n",
    "\n",
    "\n",
    "* Display a preview of the summary data frame\n",
    "\n"
   ]
  },
  {
   "cell_type": "code",
   "execution_count": 8,
   "metadata": {},
   "outputs": [
    {
     "data": {
      "text/html": [
       "<style  type=\"text/css\" >\n",
       "</style><table id=\"T_b164bd9a_0bf4_11ea_b281_e0accb82e0ca\" ><thead>    <tr>        <th class=\"blank level0\" ></th>        <th class=\"col_heading level0 col0\" >Purchase Count</th>        <th class=\"col_heading level0 col1\" >Average Purchase Price</th>        <th class=\"col_heading level0 col2\" >Total Purchase Value</th>    </tr>    <tr>        <th class=\"index_name level0\" >SN</th>        <th class=\"blank\" ></th>        <th class=\"blank\" ></th>        <th class=\"blank\" ></th>    </tr></thead><tbody>\n",
       "                <tr>\n",
       "                        <th id=\"T_b164bd9a_0bf4_11ea_b281_e0accb82e0calevel0_row0\" class=\"row_heading level0 row0\" >Lisosia93</th>\n",
       "                        <td id=\"T_b164bd9a_0bf4_11ea_b281_e0accb82e0carow0_col0\" class=\"data row0 col0\" >5</td>\n",
       "                        <td id=\"T_b164bd9a_0bf4_11ea_b281_e0accb82e0carow0_col1\" class=\"data row0 col1\" >$3.79</td>\n",
       "                        <td id=\"T_b164bd9a_0bf4_11ea_b281_e0accb82e0carow0_col2\" class=\"data row0 col2\" >$18.96</td>\n",
       "            </tr>\n",
       "            <tr>\n",
       "                        <th id=\"T_b164bd9a_0bf4_11ea_b281_e0accb82e0calevel0_row1\" class=\"row_heading level0 row1\" >Idastidru52</th>\n",
       "                        <td id=\"T_b164bd9a_0bf4_11ea_b281_e0accb82e0carow1_col0\" class=\"data row1 col0\" >4</td>\n",
       "                        <td id=\"T_b164bd9a_0bf4_11ea_b281_e0accb82e0carow1_col1\" class=\"data row1 col1\" >$3.86</td>\n",
       "                        <td id=\"T_b164bd9a_0bf4_11ea_b281_e0accb82e0carow1_col2\" class=\"data row1 col2\" >$15.45</td>\n",
       "            </tr>\n",
       "            <tr>\n",
       "                        <th id=\"T_b164bd9a_0bf4_11ea_b281_e0accb82e0calevel0_row2\" class=\"row_heading level0 row2\" >Chamjask73</th>\n",
       "                        <td id=\"T_b164bd9a_0bf4_11ea_b281_e0accb82e0carow2_col0\" class=\"data row2 col0\" >3</td>\n",
       "                        <td id=\"T_b164bd9a_0bf4_11ea_b281_e0accb82e0carow2_col1\" class=\"data row2 col1\" >$4.61</td>\n",
       "                        <td id=\"T_b164bd9a_0bf4_11ea_b281_e0accb82e0carow2_col2\" class=\"data row2 col2\" >$13.83</td>\n",
       "            </tr>\n",
       "            <tr>\n",
       "                        <th id=\"T_b164bd9a_0bf4_11ea_b281_e0accb82e0calevel0_row3\" class=\"row_heading level0 row3\" >Iral74</th>\n",
       "                        <td id=\"T_b164bd9a_0bf4_11ea_b281_e0accb82e0carow3_col0\" class=\"data row3 col0\" >4</td>\n",
       "                        <td id=\"T_b164bd9a_0bf4_11ea_b281_e0accb82e0carow3_col1\" class=\"data row3 col1\" >$3.40</td>\n",
       "                        <td id=\"T_b164bd9a_0bf4_11ea_b281_e0accb82e0carow3_col2\" class=\"data row3 col2\" >$13.62</td>\n",
       "            </tr>\n",
       "            <tr>\n",
       "                        <th id=\"T_b164bd9a_0bf4_11ea_b281_e0accb82e0calevel0_row4\" class=\"row_heading level0 row4\" >Iskadarya95</th>\n",
       "                        <td id=\"T_b164bd9a_0bf4_11ea_b281_e0accb82e0carow4_col0\" class=\"data row4 col0\" >3</td>\n",
       "                        <td id=\"T_b164bd9a_0bf4_11ea_b281_e0accb82e0carow4_col1\" class=\"data row4 col1\" >$4.37</td>\n",
       "                        <td id=\"T_b164bd9a_0bf4_11ea_b281_e0accb82e0carow4_col2\" class=\"data row4 col2\" >$13.10</td>\n",
       "            </tr>\n",
       "    </tbody></table>"
      ],
      "text/plain": [
       "<pandas.io.formats.style.Styler at 0x113b50cf8>"
      ]
     },
     "execution_count": 8,
     "metadata": {},
     "output_type": "execute_result"
    }
   ],
   "source": [
    "spenders_list = purchase_data.groupby(\"SN\")\n",
    "# test grouping list spenders_list.head()\n",
    "\n",
    "# find the count of spenders, average, and total\n",
    "spender_purchases = spenders_list[\"Purchase ID\"].count()\n",
    "average_spender = spenders_list[\"Price\"].mean()\n",
    "total_spender_purch = spenders_list[\"Price\"].sum()\n",
    "\n",
    "spenders_summary = pd.DataFrame({\"Purchase Count\": spender_purchases,\n",
    "                                \"Average Purchase Price\": average_spender,\n",
    "                                \"Total Purchase Value\":total_spender_purch})\n",
    "\n",
    "top_spenders = spenders_summary.sort_values([\"Total Purchase Value\"], ascending=False).head()\n",
    "\n",
    "top_spenders.style.format({\"Average Purchase Price\":\"${:,.2f}\", \n",
    "                            \"Total Purchase Value\":\"${:,.2f}\"})\n"
   ]
  },
  {
   "cell_type": "markdown",
   "metadata": {},
   "source": [
    "## Most Popular Items"
   ]
  },
  {
   "cell_type": "markdown",
   "metadata": {},
   "source": [
    "* Retrieve the Item ID, Item Name, and Item Price columns\n",
    "\n",
    "\n",
    "* Group by Item ID and Item Name. Perform calculations to obtain purchase count, item price, and total purchase value\n",
    "\n",
    "\n",
    "* Create a summary data frame to hold the results\n",
    "\n",
    "\n",
    "* Sort the purchase count column in descending order\n",
    "\n",
    "\n",
    "* Optional: give the displayed data cleaner formatting\n",
    "\n",
    "\n",
    "* Display a preview of the summary data frame\n",
    "\n"
   ]
  },
  {
   "cell_type": "code",
   "execution_count": 9,
   "metadata": {},
   "outputs": [
    {
     "data": {
      "text/html": [
       "<style  type=\"text/css\" >\n",
       "</style><table id=\"T_b1eb478c_0bf4_11ea_859a_e0accb82e0ca\" ><thead>    <tr>        <th class=\"blank\" ></th>        <th class=\"blank level0\" ></th>        <th class=\"col_heading level0 col0\" >Purchase Count</th>        <th class=\"col_heading level0 col1\" >Item Price</th>        <th class=\"col_heading level0 col2\" >Total Purchase Value</th>    </tr>    <tr>        <th class=\"index_name level0\" >Item ID</th>        <th class=\"index_name level1\" >Item Name</th>        <th class=\"blank\" ></th>        <th class=\"blank\" ></th>        <th class=\"blank\" ></th>    </tr></thead><tbody>\n",
       "                <tr>\n",
       "                        <th id=\"T_b1eb478c_0bf4_11ea_859a_e0accb82e0calevel0_row0\" class=\"row_heading level0 row0\" >178</th>\n",
       "                        <th id=\"T_b1eb478c_0bf4_11ea_859a_e0accb82e0calevel1_row0\" class=\"row_heading level1 row0\" >Oathbreaker, Last Hope of the Breaking Storm</th>\n",
       "                        <td id=\"T_b1eb478c_0bf4_11ea_859a_e0accb82e0carow0_col0\" class=\"data row0 col0\" >12</td>\n",
       "                        <td id=\"T_b1eb478c_0bf4_11ea_859a_e0accb82e0carow0_col1\" class=\"data row0 col1\" >$4.23</td>\n",
       "                        <td id=\"T_b1eb478c_0bf4_11ea_859a_e0accb82e0carow0_col2\" class=\"data row0 col2\" >$50.76</td>\n",
       "            </tr>\n",
       "            <tr>\n",
       "                        <th id=\"T_b1eb478c_0bf4_11ea_859a_e0accb82e0calevel0_row1\" class=\"row_heading level0 row1\" >145</th>\n",
       "                        <th id=\"T_b1eb478c_0bf4_11ea_859a_e0accb82e0calevel1_row1\" class=\"row_heading level1 row1\" >Fiery Glass Crusader</th>\n",
       "                        <td id=\"T_b1eb478c_0bf4_11ea_859a_e0accb82e0carow1_col0\" class=\"data row1 col0\" >9</td>\n",
       "                        <td id=\"T_b1eb478c_0bf4_11ea_859a_e0accb82e0carow1_col1\" class=\"data row1 col1\" >$4.58</td>\n",
       "                        <td id=\"T_b1eb478c_0bf4_11ea_859a_e0accb82e0carow1_col2\" class=\"data row1 col2\" >$41.22</td>\n",
       "            </tr>\n",
       "            <tr>\n",
       "                        <th id=\"T_b1eb478c_0bf4_11ea_859a_e0accb82e0calevel0_row2\" class=\"row_heading level0 row2\" >108</th>\n",
       "                        <th id=\"T_b1eb478c_0bf4_11ea_859a_e0accb82e0calevel1_row2\" class=\"row_heading level1 row2\" >Extraction, Quickblade Of Trembling Hands</th>\n",
       "                        <td id=\"T_b1eb478c_0bf4_11ea_859a_e0accb82e0carow2_col0\" class=\"data row2 col0\" >9</td>\n",
       "                        <td id=\"T_b1eb478c_0bf4_11ea_859a_e0accb82e0carow2_col1\" class=\"data row2 col1\" >$3.53</td>\n",
       "                        <td id=\"T_b1eb478c_0bf4_11ea_859a_e0accb82e0carow2_col2\" class=\"data row2 col2\" >$31.77</td>\n",
       "            </tr>\n",
       "            <tr>\n",
       "                        <th id=\"T_b1eb478c_0bf4_11ea_859a_e0accb82e0calevel0_row3\" class=\"row_heading level0 row3\" >82</th>\n",
       "                        <th id=\"T_b1eb478c_0bf4_11ea_859a_e0accb82e0calevel1_row3\" class=\"row_heading level1 row3\" >Nirvana</th>\n",
       "                        <td id=\"T_b1eb478c_0bf4_11ea_859a_e0accb82e0carow3_col0\" class=\"data row3 col0\" >9</td>\n",
       "                        <td id=\"T_b1eb478c_0bf4_11ea_859a_e0accb82e0carow3_col1\" class=\"data row3 col1\" >$4.90</td>\n",
       "                        <td id=\"T_b1eb478c_0bf4_11ea_859a_e0accb82e0carow3_col2\" class=\"data row3 col2\" >$44.10</td>\n",
       "            </tr>\n",
       "            <tr>\n",
       "                        <th id=\"T_b1eb478c_0bf4_11ea_859a_e0accb82e0calevel0_row4\" class=\"row_heading level0 row4\" >19</th>\n",
       "                        <th id=\"T_b1eb478c_0bf4_11ea_859a_e0accb82e0calevel1_row4\" class=\"row_heading level1 row4\" >Pursuit, Cudgel of Necromancy</th>\n",
       "                        <td id=\"T_b1eb478c_0bf4_11ea_859a_e0accb82e0carow4_col0\" class=\"data row4 col0\" >8</td>\n",
       "                        <td id=\"T_b1eb478c_0bf4_11ea_859a_e0accb82e0carow4_col1\" class=\"data row4 col1\" >$1.02</td>\n",
       "                        <td id=\"T_b1eb478c_0bf4_11ea_859a_e0accb82e0carow4_col2\" class=\"data row4 col2\" >$8.16</td>\n",
       "            </tr>\n",
       "    </tbody></table>"
      ],
      "text/plain": [
       "<pandas.io.formats.style.Styler at 0x113b680b8>"
      ]
     },
     "execution_count": 9,
     "metadata": {},
     "output_type": "execute_result"
    }
   ],
   "source": [
    "items = purchase_data[[\"Item ID\", \"Item Name\", \"Price\"]]\n",
    "\n",
    "item_group = items.groupby([\"Item ID\",\"Item Name\"])\n",
    "# print to check groups work - item_group.head()\n",
    "\n",
    "item_purch_count = item_group[\"Price\"].count()\n",
    "total_value = item_group[\"Price\"].sum()\n",
    "item_price = total_value / item_purch_count\n",
    "# print item_price to check numbers are correct\n",
    "\n",
    "item_summary = pd.DataFrame({\"Purchase Count\": item_purch_count, \n",
    "                            \"Item Price\": item_price,\n",
    "                            \"Total Purchase Value\": total_value})\n",
    "\n",
    "most_pop_format = item_summary.sort_values([\"Purchase Count\"], ascending=False).head()\n",
    "\n",
    "most_pop_format.style.format({\"Item Price\":\"${:,.2f}\",\n",
    "                        \"Total Purchase Value\":\"${:,.2f}\"})\n",
    "\n"
   ]
  },
  {
   "cell_type": "markdown",
   "metadata": {},
   "source": [
    "## Most Profitable Items"
   ]
  },
  {
   "cell_type": "markdown",
   "metadata": {},
   "source": [
    "* Sort the above table by total purchase value in descending order\n",
    "\n",
    "\n",
    "* Optional: give the displayed data cleaner formatting\n",
    "\n",
    "\n",
    "* Display a preview of the data frame\n",
    "\n"
   ]
  },
  {
   "cell_type": "code",
   "execution_count": 10,
   "metadata": {
    "scrolled": true
   },
   "outputs": [
    {
     "data": {
      "text/html": [
       "<style  type=\"text/css\" >\n",
       "</style><table id=\"T_b2af3838_0bf4_11ea_8d36_e0accb82e0ca\" ><thead>    <tr>        <th class=\"blank\" ></th>        <th class=\"blank level0\" ></th>        <th class=\"col_heading level0 col0\" >Purchase Count</th>        <th class=\"col_heading level0 col1\" >Item Price</th>        <th class=\"col_heading level0 col2\" >Total Purchase Value</th>    </tr>    <tr>        <th class=\"index_name level0\" >Item ID</th>        <th class=\"index_name level1\" >Item Name</th>        <th class=\"blank\" ></th>        <th class=\"blank\" ></th>        <th class=\"blank\" ></th>    </tr></thead><tbody>\n",
       "                <tr>\n",
       "                        <th id=\"T_b2af3838_0bf4_11ea_8d36_e0accb82e0calevel0_row0\" class=\"row_heading level0 row0\" >178</th>\n",
       "                        <th id=\"T_b2af3838_0bf4_11ea_8d36_e0accb82e0calevel1_row0\" class=\"row_heading level1 row0\" >Oathbreaker, Last Hope of the Breaking Storm</th>\n",
       "                        <td id=\"T_b2af3838_0bf4_11ea_8d36_e0accb82e0carow0_col0\" class=\"data row0 col0\" >12</td>\n",
       "                        <td id=\"T_b2af3838_0bf4_11ea_8d36_e0accb82e0carow0_col1\" class=\"data row0 col1\" >$4.23</td>\n",
       "                        <td id=\"T_b2af3838_0bf4_11ea_8d36_e0accb82e0carow0_col2\" class=\"data row0 col2\" >$50.76</td>\n",
       "            </tr>\n",
       "            <tr>\n",
       "                        <th id=\"T_b2af3838_0bf4_11ea_8d36_e0accb82e0calevel0_row1\" class=\"row_heading level0 row1\" >82</th>\n",
       "                        <th id=\"T_b2af3838_0bf4_11ea_8d36_e0accb82e0calevel1_row1\" class=\"row_heading level1 row1\" >Nirvana</th>\n",
       "                        <td id=\"T_b2af3838_0bf4_11ea_8d36_e0accb82e0carow1_col0\" class=\"data row1 col0\" >9</td>\n",
       "                        <td id=\"T_b2af3838_0bf4_11ea_8d36_e0accb82e0carow1_col1\" class=\"data row1 col1\" >$4.90</td>\n",
       "                        <td id=\"T_b2af3838_0bf4_11ea_8d36_e0accb82e0carow1_col2\" class=\"data row1 col2\" >$44.10</td>\n",
       "            </tr>\n",
       "            <tr>\n",
       "                        <th id=\"T_b2af3838_0bf4_11ea_8d36_e0accb82e0calevel0_row2\" class=\"row_heading level0 row2\" >145</th>\n",
       "                        <th id=\"T_b2af3838_0bf4_11ea_8d36_e0accb82e0calevel1_row2\" class=\"row_heading level1 row2\" >Fiery Glass Crusader</th>\n",
       "                        <td id=\"T_b2af3838_0bf4_11ea_8d36_e0accb82e0carow2_col0\" class=\"data row2 col0\" >9</td>\n",
       "                        <td id=\"T_b2af3838_0bf4_11ea_8d36_e0accb82e0carow2_col1\" class=\"data row2 col1\" >$4.58</td>\n",
       "                        <td id=\"T_b2af3838_0bf4_11ea_8d36_e0accb82e0carow2_col2\" class=\"data row2 col2\" >$41.22</td>\n",
       "            </tr>\n",
       "            <tr>\n",
       "                        <th id=\"T_b2af3838_0bf4_11ea_8d36_e0accb82e0calevel0_row3\" class=\"row_heading level0 row3\" >92</th>\n",
       "                        <th id=\"T_b2af3838_0bf4_11ea_8d36_e0accb82e0calevel1_row3\" class=\"row_heading level1 row3\" >Final Critic</th>\n",
       "                        <td id=\"T_b2af3838_0bf4_11ea_8d36_e0accb82e0carow3_col0\" class=\"data row3 col0\" >8</td>\n",
       "                        <td id=\"T_b2af3838_0bf4_11ea_8d36_e0accb82e0carow3_col1\" class=\"data row3 col1\" >$4.88</td>\n",
       "                        <td id=\"T_b2af3838_0bf4_11ea_8d36_e0accb82e0carow3_col2\" class=\"data row3 col2\" >$39.04</td>\n",
       "            </tr>\n",
       "            <tr>\n",
       "                        <th id=\"T_b2af3838_0bf4_11ea_8d36_e0accb82e0calevel0_row4\" class=\"row_heading level0 row4\" >103</th>\n",
       "                        <th id=\"T_b2af3838_0bf4_11ea_8d36_e0accb82e0calevel1_row4\" class=\"row_heading level1 row4\" >Singed Scalpel</th>\n",
       "                        <td id=\"T_b2af3838_0bf4_11ea_8d36_e0accb82e0carow4_col0\" class=\"data row4 col0\" >8</td>\n",
       "                        <td id=\"T_b2af3838_0bf4_11ea_8d36_e0accb82e0carow4_col1\" class=\"data row4 col1\" >$4.35</td>\n",
       "                        <td id=\"T_b2af3838_0bf4_11ea_8d36_e0accb82e0carow4_col2\" class=\"data row4 col2\" >$34.80</td>\n",
       "            </tr>\n",
       "    </tbody></table>"
      ],
      "text/plain": [
       "<pandas.io.formats.style.Styler at 0x113b5a9e8>"
      ]
     },
     "execution_count": 10,
     "metadata": {},
     "output_type": "execute_result"
    }
   ],
   "source": [
    "items = purchase_data[[\"Item ID\", \"Item Name\", \"Price\"]]\n",
    "\n",
    "item_group = items.groupby([\"Item ID\",\"Item Name\"])\n",
    "# print to check groups work - item_group.head()\n",
    "\n",
    "item_purch_count = item_group[\"Price\"].count()\n",
    "total_value = item_group[\"Price\"].sum()\n",
    "item_price = total_value / item_purch_count\n",
    "# print item_price to check numbers are correct\n",
    "\n",
    "profit_item_summary = pd.DataFrame({\"Purchase Count\": item_purch_count, \n",
    "                            \"Item Price\": item_price,\n",
    "                            \"Total Purchase Value\": total_value})\n",
    "\n",
    "most_profit_format = profit_item_summary.sort_values([\"Total Purchase Value\"], ascending=False).head()\n",
    "\n",
    "most_profit_format.style.format({\"Item Price\":\"${:,.2f}\",\n",
    "                                \"Total Purchase Value\":\"${:,.2f}\"})"
   ]
  },
  {
   "cell_type": "code",
   "execution_count": null,
   "metadata": {},
   "outputs": [],
   "source": [
    "\n"
   ]
  },
  {
   "cell_type": "code",
   "execution_count": null,
   "metadata": {},
   "outputs": [],
   "source": []
  },
  {
   "cell_type": "code",
   "execution_count": null,
   "metadata": {},
   "outputs": [],
   "source": []
  }
 ],
 "metadata": {
  "anaconda-cloud": {},
  "kernel_info": {
   "name": "python3"
  },
  "kernelspec": {
   "display_name": "Python 3",
   "language": "python",
   "name": "python3"
  },
  "language_info": {
   "codemirror_mode": {
    "name": "ipython",
    "version": 3
   },
   "file_extension": ".py",
   "mimetype": "text/x-python",
   "name": "python",
   "nbconvert_exporter": "python",
   "pygments_lexer": "ipython3",
   "version": "3.6.9"
  },
  "latex_envs": {
   "LaTeX_envs_menu_present": true,
   "autoclose": false,
   "autocomplete": true,
   "bibliofile": "biblio.bib",
   "cite_by": "apalike",
   "current_citInitial": 1,
   "eqLabelWithNumbers": true,
   "eqNumInitial": 1,
   "hotkeys": {
    "equation": "Ctrl-E",
    "itemize": "Ctrl-I"
   },
   "labels_anchors": false,
   "latex_user_defs": false,
   "report_style_numbering": false,
   "user_envs_cfg": false
  },
  "nteract": {
   "version": "0.2.0"
  }
 },
 "nbformat": 4,
 "nbformat_minor": 2
}
